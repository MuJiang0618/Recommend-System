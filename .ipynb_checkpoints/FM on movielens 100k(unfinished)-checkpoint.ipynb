{
 "cells": [
  {
   "cell_type": "markdown",
   "metadata": {},
   "source": [
    "# FM on movielens 100k"
   ]
  },
  {
   "cell_type": "code",
   "execution_count": 1,
   "metadata": {},
   "outputs": [],
   "source": [
    "import numpy as np\n",
    "import pandas as pd"
   ]
  },
  {
   "cell_type": "markdown",
   "metadata": {},
   "source": [
    "## 数据预处理"
   ]
  },
  {
   "cell_type": "code",
   "execution_count": 2,
   "metadata": {},
   "outputs": [],
   "source": [
    "# 载入数据\n",
    "cols = ['user','item','rating','timestamp']\n",
    "train = pd.read_csv(r'D:\\CS\\dataset\\Recommend System\\movielens-100k\\ml-100k\\ua.base', delimiter='\\t', names=cols)\n",
    "test = pd.read_csv(r'D:\\CS\\dataset\\Recommend System\\movielens-100k\\ml-100k\\ua.test', delimiter='\\t', names=cols)\n",
    "dataSet = pd.read_csv(r'D:\\CS\\dataset\\Recommend System\\movielens-100k\\ml-100k\\u.data', delimiter='\\t', names=cols)"
   ]
  },
  {
   "cell_type": "code",
   "execution_count": 3,
   "metadata": {},
   "outputs": [
    {
     "data": {
      "text/html": [
       "<div>\n",
       "<style scoped>\n",
       "    .dataframe tbody tr th:only-of-type {\n",
       "        vertical-align: middle;\n",
       "    }\n",
       "\n",
       "    .dataframe tbody tr th {\n",
       "        vertical-align: top;\n",
       "    }\n",
       "\n",
       "    .dataframe thead th {\n",
       "        text-align: right;\n",
       "    }\n",
       "</style>\n",
       "<table border=\"1\" class=\"dataframe\">\n",
       "  <thead>\n",
       "    <tr style=\"text-align: right;\">\n",
       "      <th></th>\n",
       "      <th>user</th>\n",
       "      <th>item</th>\n",
       "      <th>rating</th>\n",
       "    </tr>\n",
       "  </thead>\n",
       "  <tbody>\n",
       "    <tr>\n",
       "      <th>0</th>\n",
       "      <td>196</td>\n",
       "      <td>242</td>\n",
       "      <td>3</td>\n",
       "    </tr>\n",
       "  </tbody>\n",
       "</table>\n",
       "</div>"
      ],
      "text/plain": [
       "   user  item  rating\n",
       "0   196   242       3"
      ]
     },
     "execution_count": 3,
     "metadata": {},
     "output_type": "execute_result"
    }
   ],
   "source": [
    "del dataSet['timestamp']\n",
    "dataSet.head(1)   # 10000条数据"
   ]
  },
  {
   "cell_type": "code",
   "execution_count": 4,
   "metadata": {},
   "outputs": [],
   "source": [
    "# 将数据向量化\n",
    "users = dataSet['user'].values.tolist()\n",
    "users = list(set(users))\n",
    "\n",
    "movies = dataSet['item'].values.tolist()\n",
    "movies = list(set(movies))\n",
    "\n",
    "# 每个用户评分过的电影, 要得到电影ID以及rating\n",
    "user_item_rating_dict = {}\n",
    "for index, row in dataSet.iterrows():\n",
    "    user_item_rating_dict.setdefault(row['user'], {})\n",
    "    user_item_rating_dict[row['user']][row['item']] = row['rating']"
   ]
  },
  {
   "cell_type": "code",
   "execution_count": 8,
   "metadata": {},
   "outputs": [
    {
     "ename": "KeyboardInterrupt",
     "evalue": "",
     "output_type": "error",
     "traceback": [
      "\u001b[1;31m-----------------------------\u001b[0m",
      "\u001b[1;31mKeyboardInterrupt\u001b[0mTraceback (most recent call last)",
      "\u001b[1;32m<ipython-input-8-6d1ea9ffc290>\u001b[0m in \u001b[0;36m<module>\u001b[1;34m()\u001b[0m\n\u001b[0;32m     15\u001b[0m         \u001b[1;32mif\u001b[0m \u001b[1;33m(\u001b[0m\u001b[0mmovie\u001b[0m \u001b[1;33m!=\u001b[0m \u001b[0mrow\u001b[0m\u001b[1;33m[\u001b[0m\u001b[1;34m'item'\u001b[0m\u001b[1;33m]\u001b[0m\u001b[1;33m)\u001b[0m\u001b[1;33m:\u001b[0m\u001b[1;33m\u001b[0m\u001b[0m\n\u001b[0;32m     16\u001b[0m             \u001b[0mcounter\u001b[0m \u001b[1;33m+=\u001b[0m \u001b[1;36m1\u001b[0m\u001b[1;33m\u001b[0m\u001b[0m\n\u001b[1;32m---> 17\u001b[1;33m             \u001b[0mindices\u001b[0m\u001b[1;33m.\u001b[0m\u001b[0mappend\u001b[0m\u001b[1;33m(\u001b[0m\u001b[0moffset\u001b[0m \u001b[1;33m+\u001b[0m \u001b[0mmovies\u001b[0m\u001b[1;33m.\u001b[0m\u001b[0mindex\u001b[0m\u001b[1;33m(\u001b[0m\u001b[0mmovie\u001b[0m\u001b[1;33m)\u001b[0m\u001b[1;33m)\u001b[0m\u001b[1;33m\u001b[0m\u001b[0m\n\u001b[0m\u001b[0;32m     18\u001b[0m             \u001b[0mdata\u001b[0m\u001b[1;33m.\u001b[0m\u001b[0mappend\u001b[0m\u001b[1;33m(\u001b[0m\u001b[0mrating\u001b[0m\u001b[1;33m)\u001b[0m\u001b[1;33m\u001b[0m\u001b[0m\n\u001b[0;32m     19\u001b[0m \u001b[1;33m\u001b[0m\u001b[0m\n",
      "\u001b[1;31mKeyboardInterrupt\u001b[0m: "
     ]
    }
   ],
   "source": [
    "# 构建稀疏向量矩阵\n",
    "indptr = [0]\n",
    "indices = []\n",
    "data = []\n",
    "offset = len(users) + len(movies)\n",
    "offset_target = offset + len(movies) - 1\n",
    "counter = 0\n",
    "\n",
    "for index, row in dataSet.iterrows():\n",
    "    data.append(1)\n",
    "    indices.append(users.index(row['user']))\n",
    "    data.append(1)\n",
    "    indices.append(movies.index(row['item']))\n",
    "    for movie, rating in user_item_rating_dict[row['user']].items():    # 该用户看过的电影以及其评分\n",
    "        if (movie != row['item']):\n",
    "            counter += 1\n",
    "            indices.append(offset + movies.index(movie))\n",
    "            data.append(rating)\n",
    "    \n",
    "    data.append(row['rating'])\n",
    "    indices.append(offset_target)\n",
    "    indptr.append(2 + counter + 1)\n",
    "    counter = 0\n",
    "\n",
    "from scipy.sparse.csr import csr_matrix\n",
    "b = csr_matrix((data, indices, indptr), dtype=int).toarray()"
   ]
  },
  {
   "cell_type": "code",
   "execution_count": null,
   "metadata": {},
   "outputs": [],
   "source": [
    "# coding: utf-8\n",
    "from scipy.sparse.csr import csr_matrix\n",
    " \n",
    "docs = [[\"hello\", \"world\", \"hello\"], [\"goodbye\", \"cruel\", \"world\"]]\n",
    "indptr = [0]        # 存放的是行偏移量\n",
    "indices = []        # 存放的是data中元素对应的列编号（列编号可重复）\n",
    "data = []           # 存放的是非0数据元素\n",
    "vocabulary = {}     # key是word词汇，value是列编号\n",
    "for d in docs:      # 遍历每个文档\n",
    "    for term in d:  # 遍历文档的每个词汇term\n",
    "        # setdefault如果term不存在，则将新term和他的列\n",
    "        # 编号len(vocabulary)加入到词典中，返回他的编号；\n",
    "        # 如果term存在，则不填加，返回已存在的编号\n",
    "        index = vocabulary.setdefault(term, len(vocabulary))\n",
    "        indices.append(index)\n",
    "        data.append(1)\n",
    "    indptr.append(len(indices))\n",
    "# csr_matrix可以将同一个词汇次数求和\n",
    "b = csr_matrix((data, indices, indptr), dtype=int).toarray()\n",
    "\n",
    "print('indptr: ', indptr, '\\n', 'indices: ', indices, '\\n', 'data:', data)\n",
    "print('result: \\n', b)"
   ]
  },
  {
   "cell_type": "code",
   "execution_count": null,
   "metadata": {},
   "outputs": [],
   "source": []
  }
 ],
 "metadata": {
  "kernelspec": {
   "display_name": "Python 3",
   "language": "python",
   "name": "python3"
  },
  "language_info": {
   "codemirror_mode": {
    "name": "ipython",
    "version": 3
   },
   "file_extension": ".py",
   "mimetype": "text/x-python",
   "name": "python",
   "nbconvert_exporter": "python",
   "pygments_lexer": "ipython3",
   "version": "3.6.5"
  }
 },
 "nbformat": 4,
 "nbformat_minor": 2
}
