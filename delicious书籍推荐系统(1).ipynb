{
 "cells": [
  {
   "cell_type": "markdown",
   "metadata": {},
   "source": [
    "# 推荐书籍\n",
    "该特简单推荐系统的思路:\n",
    "输入用户ID:userID\n",
    "对该用户计算 P = a * b\n",
    "p:该用户对书籍book可能感兴趣的程度\n",
    "a:该用户打过x标签的次数\n",
    "b:书籍book被打过x标签的次数\n",
    "note:一本书可以被一个用户打多种标签"
   ]
  },
  {
   "cell_type": "markdown",
   "metadata": {},
   "source": [
    "## 准备数据"
   ]
  },
  {
   "cell_type": "code",
   "execution_count": 18,
   "metadata": {},
   "outputs": [],
   "source": [
    "from numpy import *\n",
    "import pandas as pd\n",
    "import tensorflow as tf"
   ]
  },
  {
   "cell_type": "code",
   "execution_count": 19,
   "metadata": {
    "scrolled": true
   },
   "outputs": [
    {
     "data": {
      "text/html": [
       "<div>\n",
       "<style scoped>\n",
       "    .dataframe tbody tr th:only-of-type {\n",
       "        vertical-align: middle;\n",
       "    }\n",
       "\n",
       "    .dataframe tbody tr th {\n",
       "        vertical-align: top;\n",
       "    }\n",
       "\n",
       "    .dataframe thead th {\n",
       "        text-align: right;\n",
       "    }\n",
       "</style>\n",
       "<table border=\"1\" class=\"dataframe\">\n",
       "  <thead>\n",
       "    <tr style=\"text-align: right;\">\n",
       "      <th></th>\n",
       "      <th>id</th>\n",
       "      <th>value</th>\n",
       "    </tr>\n",
       "  </thead>\n",
       "  <tbody>\n",
       "    <tr>\n",
       "      <th>0</th>\n",
       "      <td>1</td>\n",
       "      <td>collection_development</td>\n",
       "    </tr>\n",
       "    <tr>\n",
       "      <th>1</th>\n",
       "      <td>2</td>\n",
       "      <td>library</td>\n",
       "    </tr>\n",
       "    <tr>\n",
       "      <th>2</th>\n",
       "      <td>3</td>\n",
       "      <td>collection</td>\n",
       "    </tr>\n",
       "    <tr>\n",
       "      <th>3</th>\n",
       "      <td>4</td>\n",
       "      <td>development</td>\n",
       "    </tr>\n",
       "    <tr>\n",
       "      <th>4</th>\n",
       "      <td>5</td>\n",
       "      <td>lesson_plan</td>\n",
       "    </tr>\n",
       "  </tbody>\n",
       "</table>\n",
       "</div>"
      ],
      "text/plain": [
       "   id                   value\n",
       "0   1  collection_development\n",
       "1   2                 library\n",
       "2   3              collection\n",
       "3   4             development\n",
       "4   5             lesson_plan"
      ]
     },
     "execution_count": 19,
     "metadata": {},
     "output_type": "execute_result"
    }
   ],
   "source": [
    "tags_df = pd.read_table(r'D:\\dataSet\\delicious\\tags.txt')\n",
    "tags_df.head()"
   ]
  },
  {
   "cell_type": "code",
   "execution_count": 20,
   "metadata": {},
   "outputs": [
    {
     "data": {
      "text/html": [
       "<div>\n",
       "<style scoped>\n",
       "    .dataframe tbody tr th:only-of-type {\n",
       "        vertical-align: middle;\n",
       "    }\n",
       "\n",
       "    .dataframe tbody tr th {\n",
       "        vertical-align: top;\n",
       "    }\n",
       "\n",
       "    .dataframe thead th {\n",
       "        text-align: right;\n",
       "    }\n",
       "</style>\n",
       "<table border=\"1\" class=\"dataframe\">\n",
       "  <thead>\n",
       "    <tr style=\"text-align: right;\">\n",
       "      <th></th>\n",
       "      <th>userID</th>\n",
       "      <th>bookmarkID</th>\n",
       "      <th>tagID</th>\n",
       "    </tr>\n",
       "  </thead>\n",
       "  <tbody>\n",
       "    <tr>\n",
       "      <th>0</th>\n",
       "      <td>8</td>\n",
       "      <td>1</td>\n",
       "      <td>1</td>\n",
       "    </tr>\n",
       "    <tr>\n",
       "      <th>1</th>\n",
       "      <td>8</td>\n",
       "      <td>2</td>\n",
       "      <td>1</td>\n",
       "    </tr>\n",
       "    <tr>\n",
       "      <th>2</th>\n",
       "      <td>8</td>\n",
       "      <td>7</td>\n",
       "      <td>1</td>\n",
       "    </tr>\n",
       "    <tr>\n",
       "      <th>3</th>\n",
       "      <td>8</td>\n",
       "      <td>7</td>\n",
       "      <td>6</td>\n",
       "    </tr>\n",
       "    <tr>\n",
       "      <th>4</th>\n",
       "      <td>8</td>\n",
       "      <td>7</td>\n",
       "      <td>7</td>\n",
       "    </tr>\n",
       "  </tbody>\n",
       "</table>\n",
       "</div>"
      ],
      "text/plain": [
       "   userID  bookmarkID  tagID\n",
       "0       8           1      1\n",
       "1       8           2      1\n",
       "2       8           7      1\n",
       "3       8           7      6\n",
       "4       8           7      7"
      ]
     },
     "execution_count": 20,
     "metadata": {},
     "output_type": "execute_result"
    }
   ],
   "source": [
    "records = pd.read_table(r'D:\\dataSet\\delicious\\user_taggedbookmarks.txt')\n",
    "records.drop(records.columns[[3,4,5,6,7,8]], 1, inplace=True)\n",
    "records.head()  #一本书可能被打多个标签"
   ]
  },
  {
   "cell_type": "markdown",
   "metadata": {},
   "source": [
    "## 构建模型\n",
    "对于每个标签,找到被打这个标签次数最多的n本书\n",
    "找到用户最常用的k个标签,推荐对应标签下最热门的书"
   ]
  },
  {
   "cell_type": "code",
   "execution_count": 21,
   "metadata": {},
   "outputs": [],
   "source": [
    "def structDict(tag_book = {}, user_tag = {}):\n",
    "    for index, row in records.iterrows():\n",
    "        tagID = row['tagID'] ; bookmarkID = row['bookmarkID']\n",
    "        tag_book.setdefault(tagID, {})\n",
    "        tag_book[tagID].setdefault(bookmarkID, 0)\n",
    "        tag_book[tagID][bookmarkID] += 1\n",
    "\n",
    "        userID = row['userID']\n",
    "        user_tag.setdefault(userID, {})\n",
    "        user_tag[userID].setdefault(tagID, 0)\n",
    "        user_tag[userID][tagID] += 1\n",
    "\n",
    "    return tag_book, user_tag"
   ]
  },
  {
   "cell_type": "code",
   "execution_count": 23,
   "metadata": {
    "code_folding": [
     1
    ]
   },
   "outputs": [
    {
     "name": "stdout",
     "output_type": "stream",
     "text": [
      "Please input the ID of user: 8\n",
      "Please input the amount of books recommender: 3\n",
      "[(1526, 360), (1416, 284), (1, 252)]\n"
     ]
    }
   ],
   "source": [
    "#p函数时间复杂度太高爆内存,所以采取了recommend函数:给定userID后再计算字典\n",
    "def p(user_tag_dict, tag_book_dict):    #计算用户对书籍的兴趣p\n",
    "    user_book_interest = {}\n",
    "    for user in user_tag_dict.keys():   #遍历用户\n",
    "        user_book_interest.setdefault(user, {})\n",
    "        for tag in user_tag_dict[user].keys():   #遍历用户的标签\n",
    "            for book in tag_book_dict[tag].keys():   #遍历被该标签标记的书\n",
    "                user_book_interest[user].setdefault(book, 0)\n",
    "                user_book_interest[user][book] += user_tag_dict[user][tag] \\\n",
    "                * tag_book_dict[tag][book]        \n",
    "    \n",
    "    user_book_interest_sorted = {}\n",
    "    for key in user_book_interest.keys():\n",
    "        user_book_interest_sorted[key] = sorted(user_book_interest[key].items(), \\\n",
    "                                               key = lambda x:x[1], reverse = True)\n",
    "    \n",
    "    return user_book_interest_sorted\n",
    "\n",
    "def recommend(userID, user_tag_dict, tag_book_dict, recom_num = 3):\n",
    "    recommend_dict = {}\n",
    "    targeted_book = records.loc[records['userID'] == userID]['bookmarkID']\n",
    "    for tag in user_tag_dict[userID].keys():\n",
    "        for book in tag_book_dict[tag].keys():\n",
    "            recommend_dict.setdefault(book, 0)\n",
    "            recommend_dict[book] += user_tag_dict[userID][tag] * \\\n",
    "                                     tag_book_dict[tag][book]\n",
    "    \n",
    "    #排序选取recom_num本书\n",
    "    recommend_dict_sorted = sorted(recommend_dict.items(), key = lambda x:x[1], reverse = True)\n",
    "    \n",
    "    #排除该用户已经看过的书:打过标签代表看过\n",
    "    recommend_dict_sorted = list(filter(lambda x: x not in targeted_book, recommend_dict_sorted))  \n",
    "    \n",
    "    if len(recommend_dict_sorted) < recom_num: #长度不够,能推荐多少就推荐多少本书\n",
    "        return recommend_dict_sorted\n",
    "    else:\n",
    "        return recommend_dict_sorted[:recom_num]\n",
    "\n",
    "def main():\n",
    "    userID = input('Please input the ID of user: ')\n",
    "    tag_book, user_tag = structDict()\n",
    "    if int(userID) not in user_tag.keys():\n",
    "        print('该用户没有过行为,梁康的简单推荐系统无法为该用户推荐')\n",
    "        return -1\n",
    "    \n",
    "    recom_num = input('Please input the amount of books recommender: ')\n",
    "    result = recommend(int(userID), user_tag, tag_book, int(recom_num))\n",
    "    print(result)\n",
    "    return 0\n",
    "\n",
    "if __name__ == '__main__':\n",
    "    main()"
   ]
  }
 ],
 "metadata": {
  "kernelspec": {
   "display_name": "Python 3",
   "language": "python",
   "name": "python3"
  }
 },
 "nbformat": 4,
 "nbformat_minor": 2
}
