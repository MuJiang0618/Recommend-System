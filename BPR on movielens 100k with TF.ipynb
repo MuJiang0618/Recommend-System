{
 "cells": [
  {
   "cell_type": "markdown",
   "metadata": {},
   "source": [
    "# BPR on movielens 100k"
   ]
  },
  {
   "cell_type": "code",
   "execution_count": 4,
   "metadata": {},
   "outputs": [],
   "source": [
    "import numpy as np\n",
    "import tensorflow as tf\n",
    "import os\n",
    "import random\n",
    "from collections import defaultdict"
   ]
  },
  {
   "cell_type": "markdown",
   "metadata": {},
   "source": [
    "## 载入数据集"
   ]
  },
  {
   "cell_type": "code",
   "execution_count": 5,
   "metadata": {},
   "outputs": [
    {
     "name": "stdout",
     "output_type": "stream",
     "text": [
      "max_u_id: 943\n",
      "max_i_id: 1682\n"
     ]
    }
   ],
   "source": [
    "import numpy\n",
    "import tensorflow as tf\n",
    "import os\n",
    "import random\n",
    "from collections import defaultdict\n",
    "\n",
    "def load_data(data_path):\n",
    "    '''\n",
    "    Returns: 每个用户看过的电影\n",
    "    '''\n",
    "    \n",
    "    user_ratings = defaultdict(set)\n",
    "    max_u_id = -1\n",
    "    max_i_id = -1 \n",
    "    with open(data_path, 'r') as f:\n",
    "        for line in f.readlines():\n",
    "            u, i, _, _ = line.split(\"\\t\")\n",
    "            u = int(u)\n",
    "            i = int(i)\n",
    "            user_ratings[u].add(i)\n",
    "            max_u_id = max(u, max_u_id)\n",
    "            max_i_id = max(i, max_i_id)\n",
    "            \n",
    "    print (\"max_u_id:\", max_u_id)\n",
    "    print (\"max_i_id:\", max_i_id)\n",
    "    \n",
    "    return max_u_id, max_i_id, user_ratings\n",
    "    \n",
    "data_path = os.path.join(r'D:\\CS\\dataset\\Recommend System\\movielens-100k\\ml-100k', 'u.data')\n",
    "user_count, item_count, user_ratings = load_data(data_path)"
   ]
  },
  {
   "cell_type": "markdown",
   "metadata": {},
   "source": [
    "## 生成测试集"
   ]
  },
  {
   "cell_type": "code",
   "execution_count": 6,
   "metadata": {},
   "outputs": [],
   "source": [
    "def generate_test(user_ratings):\n",
    "    user_test = dict()\n",
    "    for u, i_list in user_ratings.items():\n",
    "        user_test[u] = random.sample(user_ratings[u], 1)[0]\n",
    "    return user_test\n",
    "    if asdad > asf:\n",
    "user_ratings_test = generate_test(user_ratings)      # 测试集, 每个用户对应一个其评分过的电影"
   ]
  },
  {
   "cell_type": "markdown",
   "metadata": {},
   "source": [
    "## 生成训练集\n",
    "对于 <u,i,j>, 随机抽出用户u, 从user_ratings随机选取用户u看过的电影作为i, 再从所有电影中随机找出j, 同时保证j该用户u没有看过j. 即默认用户对于看过的电影的偏好大于没有看过的电影"
   ]
  },
  {
   "cell_type": "code",
   "execution_count": 7,
   "metadata": {},
   "outputs": [],
   "source": [
    "def generate_train_batch(user_ratings, user_ratings_test, item_count, batch_size=512):\n",
    "    '''\n",
    "    Returns: ndarray: [ [u,i,j], [u,i,j] ...]\n",
    "    '''\n",
    "    t = []\n",
    "    for b in range(batch_size):\n",
    "        u = random.sample(user_ratings.keys(), 1)[0]\n",
    "        i = random.sample(user_ratings[u], 1)[0]\n",
    "        while i == user_ratings_test[u]:              # 避免选出的i已经存在测试集中\n",
    "            i = random.sample(user_ratings[u], 1)[0]\n",
    "        \n",
    "        j = random.randint(1, item_count)             # 随机抽取一个 itemID\n",
    "        while j in user_ratings[u]:                   # 应该保证j没有被当前用户评分过\n",
    "            j = random.randint(1, item_count)\n",
    "        t.append([u, i, j])\n",
    "        \n",
    "    return np.asarray(t)"
   ]
  },
  {
   "cell_type": "code",
   "execution_count": 8,
   "metadata": {},
   "outputs": [],
   "source": [
    "def generate_test_batch(user_ratings, user_ratings_test, item_count):\n",
    "    for u in user_ratings.keys():\n",
    "        t = []\n",
    "        i = user_ratings_test[u]\n",
    "        for j in range(1, item_count+1):\n",
    "            if not (j in user_ratings[u]):\n",
    "                t.append([u, i, j])\n",
    "        yield numpy.asarray(t)"
   ]
  },
  {
   "cell_type": "markdown",
   "metadata": {},
   "source": [
    "## TF modeling"
   ]
  },
  {
   "cell_type": "code",
   "execution_count": 9,
   "metadata": {},
   "outputs": [],
   "source": [
    "a = tf.Variable(tf.random_normal([4,3], stddev=0.1), name='a')\n",
    "a = tf.expand_dims(a, -1)"
   ]
  },
  {
   "cell_type": "code",
   "execution_count": 10,
   "metadata": {},
   "outputs": [
    {
     "data": {
      "text/plain": [
       "<tf.Tensor 'ExpandDims:0' shape=(4, 3, 1) dtype=float32>"
      ]
     },
     "execution_count": 10,
     "metadata": {},
     "output_type": "execute_result"
    }
   ],
   "source": [
    "a"
   ]
  },
  {
   "cell_type": "code",
   "execution_count": 11,
   "metadata": {},
   "outputs": [],
   "source": [
    "def bpr_mf(user_count, item_count, hidden_dim):\n",
    "    u = tf.placeholder(tf.int32, [None])    # 接收训练样本中的 uID\n",
    "    i = tf.placeholder(tf.int32, [None])    # 接收训练样本中的 iID\n",
    "    j = tf.placeholder(tf.int32, [None])\n",
    "\n",
    "    with tf.device(\"/cpu:0\"):\n",
    "        user_emb_w = tf.get_variable(\"user_emb_w\", [user_count+1, hidden_dim], \n",
    "                            initializer=tf.random_normal_initializer(0, 0.1))\n",
    "        item_emb_w = tf.get_variable(\"item_emb_w\", [item_count+1, hidden_dim], \n",
    "                                initializer=tf.random_normal_initializer(0, 0.1))\n",
    "        \n",
    "        u_emb = tf.nn.embedding_lookup(user_emb_w, u)    # W中对应训练样本uID的行\n",
    "        i_emb = tf.nn.embedding_lookup(item_emb_w, i)\n",
    "        j_emb = tf.nn.embedding_lookup(item_emb_w, j)\n",
    "    \n",
    "    # MF predict: u_i > u_j\n",
    "    x = tf.reduce_sum(tf.multiply(u_emb, (i_emb - j_emb)), 1, keep_dims=True)\n",
    "    \n",
    "    # AUC for one user:\n",
    "    # reasonable iff all (u,i,j) pairs are from the same user\n",
    "\n",
    "    # average AUC = mean( auc for each user in test set)\n",
    "    mf_auc = tf.reduce_mean(tf.to_float(x > 0))\n",
    "    \n",
    "    # 正则化项, 平方和\n",
    "    l2_norm = tf.add_n([           \n",
    "            tf.reduce_sum(tf.multiply(u_emb, u_emb)), \n",
    "            tf.reduce_sum(tf.multiply(i_emb, i_emb)),\n",
    "            tf.reduce_sum(tf.multiply(j_emb, j_emb))\n",
    "        ])\n",
    "    \n",
    "    regulation_rate = 0.0001\n",
    "    bprloss = - regulation_rate * l2_norm - tf.reduce_mean(tf.log(tf.sigmoid(x)))\n",
    "    train_op = tf.train.GradientDescentOptimizer(0.01).minimize(bprloss)\n",
    "    \n",
    "    return u, i, j, mf_auc, bprloss, train_op"
   ]
  },
  {
   "cell_type": "code",
   "execution_count": 12,
   "metadata": {},
   "outputs": [
    {
     "name": "stdout",
     "output_type": "stream",
     "text": [
      "WARNING:tensorflow:From <ipython-input-11-9e06d3140a90>:17: calling reduce_sum (from tensorflow.python.ops.math_ops) with keep_dims is deprecated and will be removed in a future version.\n",
      "Instructions for updating:\n",
      "keep_dims is deprecated, use keepdims instead\n",
      "epoch:  1\n",
      "bpr_loss:  0.662683289905719\n",
      "_train_op\n",
      "test_loss:  0.6119885 test_auc:  0.5035516543146954\n",
      "________________________________________________________________________________\n",
      "epoch:  2\n",
      "bpr_loss:  0.6620350534092262\n",
      "_train_op\n",
      "test_loss:  0.61047125 test_auc:  0.5036232185136222\n",
      "________________________________________________________________________________\n",
      "epoch:  3\n",
      "bpr_loss:  0.6613667560687277\n",
      "_train_op\n",
      "test_loss:  0.60887396 test_auc:  0.5036008184191041\n",
      "________________________________________________________________________________\n",
      "Variable:  user_emb_w:0\n",
      "Shape:  (944, 20)\n",
      "[[ 0.06405131 -0.10947271 -0.02696753 ... -0.12656157  0.03924455\n",
      "   0.11468504]\n",
      " [-0.1004385  -0.04399877  0.01715755 ...  0.00125282  0.00166603\n",
      "  -0.12702945]\n",
      " [ 0.1901028   0.03350162  0.09161587 ...  0.06237383  0.13398826\n",
      "   0.22615623]\n",
      " ...\n",
      " [-0.07719813  0.1037305   0.09040267 ...  0.03548682  0.14065503\n",
      "   0.16374888]\n",
      " [-0.15842694  0.20161599 -0.00976075 ... -0.09108655 -0.00088015\n",
      "   0.00032549]\n",
      " [ 0.06384586 -0.04713131 -0.16909388 ... -0.13754539 -0.1372797\n",
      "  -0.15308715]]\n",
      "Variable:  item_emb_w:0\n",
      "Shape:  (1683, 20)\n",
      "[[-0.01557017  0.02299081 -0.02683634 ...  0.02977336  0.04255643\n",
      "   0.17349172]\n",
      " [-0.02504632  0.15893729 -0.10062145 ...  0.13444583  0.03540053\n",
      "   0.05618897]\n",
      " [-0.20720312  0.00725631  0.06971125 ...  0.03870786  0.00966223\n",
      "  -0.1698976 ]\n",
      " ...\n",
      " [-0.07231832  0.11047504 -0.0973947  ...  0.10345423  0.05122052\n",
      "  -0.21873192]\n",
      " [ 0.1123317   0.17490953 -0.12789498 ... -0.00416697  0.13648248\n",
      "  -0.18813565]\n",
      " [ 0.00860821 -0.1712718  -0.08641336 ... -0.00235914  0.1457887\n",
      "   0.05303372]]\n"
     ]
    }
   ],
   "source": [
    "with tf.Graph().as_default(), tf.Session() as session:\n",
    "    u, i, j, mf_auc, bprloss, train_op = bpr_mf(user_count, item_count, 20)\n",
    "    session.run(tf.global_variables_initializer())\n",
    "    for epoch in range(1, 4):\n",
    "        _batch_bprloss = 0\n",
    "        for k in range(1, 5000): # uniform samples from training set\n",
    "            uij = generate_train_batch(user_ratings, user_ratings_test, item_count)\n",
    "\n",
    "            _bprloss, _train_op = session.run([bprloss, train_op], \n",
    "                                feed_dict={u:uij[:,0], i:uij[:,1], j:uij[:,2]})\n",
    "            _batch_bprloss += _bprloss\n",
    "        \n",
    "        print (\"epoch: \", epoch)\n",
    "        print (\"bpr_loss: \", _batch_bprloss / k)\n",
    "        print (\"_train_op\")\n",
    "\n",
    "        user_count = 0\n",
    "        _auc_sum = 0.0\n",
    "\n",
    "        # each batch will return only one user's auc\n",
    "        for t_uij in generate_test_batch(user_ratings, user_ratings_test, item_count):\n",
    "            _auc, _test_bprloss = session.run([mf_auc, bprloss],\n",
    "                                               feed_dict={u:t_uij[:,0], i:t_uij[:,1], j:t_uij[:,2]})\n",
    "            user_count += 1\n",
    "            _auc_sum += _auc\n",
    "        print (\"test_loss: \", _test_bprloss, \"test_auc: \", _auc_sum/user_count)\n",
    "        print (\"________________________________________________________________________________\")\n",
    "        \n",
    "    variable_names = [v.name for v in tf.trainable_variables()]\n",
    "    values = session.run(variable_names)\n",
    "    for k,v in zip(variable_names, values):\n",
    "        print(\"Variable: \", k)\n",
    "        print(\"Shape: \", v.shape)\n",
    "        print(v)"
   ]
  },
  {
   "cell_type": "markdown",
   "metadata": {},
   "source": [
    "## Prediction"
   ]
  },
  {
   "cell_type": "code",
   "execution_count": 21,
   "metadata": {},
   "outputs": [
    {
     "name": "stdout",
     "output_type": "stream",
     "text": [
      "[[ 0.0302686  -0.03186373 -0.04049495 ... -0.03867592 -0.03704941\n",
      "   0.04978933]]\n"
     ]
    }
   ],
   "source": [
    "session1 = tf.Session()\n",
    "u1_dim = tf.expand_dims(values[0][0], 0)    # [20] reshape成2阶ndarray[1, 20], 以在下一步进行矩阵乘法\n",
    "u1_all = tf.matmul(u1_dim, values[1], transpose_b=True)\n",
    "result_1 = session1.run(u1_all)\n",
    "print(result_1)       # W中第一个用户的电影BPR排序结果"
   ]
  },
  {
   "cell_type": "code",
   "execution_count": 23,
   "metadata": {},
   "outputs": [
    {
     "name": "stdout",
     "output_type": "stream",
     "text": [
      "以下是给用户0的推荐：\n",
      "470 0.10199209\n",
      "739 0.094658285\n",
      "1082 0.10206555\n",
      "1098 0.093990594\n",
      "1439 0.089905776\n"
     ]
    }
   ],
   "source": [
    "print(\"以下是给用户0的推荐：\")\n",
    "p = numpy.squeeze(result_1)\n",
    "p[numpy.argsort(p)[:-5]] = 0\n",
    "for index in range(len(p)):\n",
    "    if p[index] != 0:\n",
    "        print (index, p[index])"
   ]
  }
 ],
 "metadata": {
  "kernelspec": {
   "display_name": "Python 3",
   "language": "python",
   "name": "python3"
  },
  "language_info": {
   "codemirror_mode": {
    "name": "ipython",
    "version": 3
   },
   "file_extension": ".py",
   "mimetype": "text/x-python",
   "name": "python",
   "nbconvert_exporter": "python",
   "pygments_lexer": "ipython3",
   "version": "3.6.5"
  }
 },
 "nbformat": 4,
 "nbformat_minor": 2
}
