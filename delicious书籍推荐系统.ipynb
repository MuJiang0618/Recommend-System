{
 "cells": [
  {
   "cell_type": "markdown",
   "metadata": {},
   "source": [
    "# 推荐书籍\n",
    "该特简单推荐系统的思路:\n",
    "对于每个标签,找到被打这个标签次数最多的n本书,找到用户最常用的k个标签,推荐对应标签下最热门的书"
   ]
  },
  {
   "cell_type": "markdown",
   "metadata": {},
   "source": [
    "## 准备数据"
   ]
  },
  {
   "cell_type": "code",
   "execution_count": 1,
   "metadata": {},
   "outputs": [
    {
     "name": "stderr",
     "output_type": "stream",
     "text": [
      "G:\\study\\Anaconda\\lib\\site-packages\\h5py\\__init__.py:36: FutureWarning: Conversion of the second argument of issubdtype from `float` to `np.floating` is deprecated. In future, it will be treated as `np.float64 == np.dtype(float).type`.\n",
      "  from ._conv import register_converters as _register_converters\n"
     ]
    }
   ],
   "source": [
    "from numpy import *\n",
    "import pandas as pd\n",
    "import tensorflow as tf"
   ]
  },
  {
   "cell_type": "code",
   "execution_count": 2,
   "metadata": {
    "scrolled": true
   },
   "outputs": [
    {
     "data": {
      "text/html": [
       "<div>\n",
       "<style scoped>\n",
       "    .dataframe tbody tr th:only-of-type {\n",
       "        vertical-align: middle;\n",
       "    }\n",
       "\n",
       "    .dataframe tbody tr th {\n",
       "        vertical-align: top;\n",
       "    }\n",
       "\n",
       "    .dataframe thead th {\n",
       "        text-align: right;\n",
       "    }\n",
       "</style>\n",
       "<table border=\"1\" class=\"dataframe\">\n",
       "  <thead>\n",
       "    <tr style=\"text-align: right;\">\n",
       "      <th></th>\n",
       "      <th>id</th>\n",
       "      <th>value</th>\n",
       "    </tr>\n",
       "  </thead>\n",
       "  <tbody>\n",
       "    <tr>\n",
       "      <th>0</th>\n",
       "      <td>1</td>\n",
       "      <td>collection_development</td>\n",
       "    </tr>\n",
       "    <tr>\n",
       "      <th>1</th>\n",
       "      <td>2</td>\n",
       "      <td>library</td>\n",
       "    </tr>\n",
       "    <tr>\n",
       "      <th>2</th>\n",
       "      <td>3</td>\n",
       "      <td>collection</td>\n",
       "    </tr>\n",
       "    <tr>\n",
       "      <th>3</th>\n",
       "      <td>4</td>\n",
       "      <td>development</td>\n",
       "    </tr>\n",
       "    <tr>\n",
       "      <th>4</th>\n",
       "      <td>5</td>\n",
       "      <td>lesson_plan</td>\n",
       "    </tr>\n",
       "  </tbody>\n",
       "</table>\n",
       "</div>"
      ],
      "text/plain": [
       "   id                   value\n",
       "0   1  collection_development\n",
       "1   2                 library\n",
       "2   3              collection\n",
       "3   4             development\n",
       "4   5             lesson_plan"
      ]
     },
     "execution_count": 2,
     "metadata": {},
     "output_type": "execute_result"
    }
   ],
   "source": [
    "tags_df = pd.read_table(r'D:\\dataSet\\delicious\\tags.txt')\n",
    "tags_df.head()"
   ]
  },
  {
   "cell_type": "code",
   "execution_count": 3,
   "metadata": {},
   "outputs": [
    {
     "data": {
      "text/html": [
       "<div>\n",
       "<style scoped>\n",
       "    .dataframe tbody tr th:only-of-type {\n",
       "        vertical-align: middle;\n",
       "    }\n",
       "\n",
       "    .dataframe tbody tr th {\n",
       "        vertical-align: top;\n",
       "    }\n",
       "\n",
       "    .dataframe thead th {\n",
       "        text-align: right;\n",
       "    }\n",
       "</style>\n",
       "<table border=\"1\" class=\"dataframe\">\n",
       "  <thead>\n",
       "    <tr style=\"text-align: right;\">\n",
       "      <th></th>\n",
       "      <th>userID</th>\n",
       "      <th>bookmarkID</th>\n",
       "      <th>tagID</th>\n",
       "    </tr>\n",
       "  </thead>\n",
       "  <tbody>\n",
       "    <tr>\n",
       "      <th>0</th>\n",
       "      <td>8</td>\n",
       "      <td>1</td>\n",
       "      <td>1</td>\n",
       "    </tr>\n",
       "    <tr>\n",
       "      <th>1</th>\n",
       "      <td>8</td>\n",
       "      <td>2</td>\n",
       "      <td>1</td>\n",
       "    </tr>\n",
       "    <tr>\n",
       "      <th>2</th>\n",
       "      <td>8</td>\n",
       "      <td>7</td>\n",
       "      <td>1</td>\n",
       "    </tr>\n",
       "    <tr>\n",
       "      <th>3</th>\n",
       "      <td>8</td>\n",
       "      <td>7</td>\n",
       "      <td>6</td>\n",
       "    </tr>\n",
       "    <tr>\n",
       "      <th>4</th>\n",
       "      <td>8</td>\n",
       "      <td>7</td>\n",
       "      <td>7</td>\n",
       "    </tr>\n",
       "  </tbody>\n",
       "</table>\n",
       "</div>"
      ],
      "text/plain": [
       "   userID  bookmarkID  tagID\n",
       "0       8           1      1\n",
       "1       8           2      1\n",
       "2       8           7      1\n",
       "3       8           7      6\n",
       "4       8           7      7"
      ]
     },
     "execution_count": 3,
     "metadata": {},
     "output_type": "execute_result"
    }
   ],
   "source": [
    "records = pd.read_table(r'D:\\dataSet\\delicious\\user_taggedbookmarks.txt')\n",
    "records.drop(records.columns[[3,4,5,6,7,8]], 1, inplace=True)\n",
    "records.head()  #一本书可能被打多个标签"
   ]
  },
  {
   "cell_type": "markdown",
   "metadata": {},
   "source": [
    "## 构建模型\n",
    "对于每个标签,找到被打这个标签次数最多的n本书\n",
    "找到用户最常用的k个标签,推荐对应标签下最热门的书"
   ]
  },
  {
   "cell_type": "code",
   "execution_count": 4,
   "metadata": {},
   "outputs": [],
   "source": [
    "def structDict(tag_book = {}, user_tag = {}):\n",
    "    for index, row in records.iterrows():\n",
    "        tagID = row['tagID'] ; bookmarkID = row['bookmarkID']\n",
    "        tag_book.setdefault(tagID, {})\n",
    "        tag_book[tagID].setdefault(bookmarkID, 0)\n",
    "        tag_book[tagID][bookmarkID] += 1\n",
    "\n",
    "        userID = row['userID']\n",
    "        user_tag.setdefault(userID, {})\n",
    "        user_tag[userID].setdefault(tagID, 0)\n",
    "        user_tag[userID][tagID] += 1\n",
    "\n",
    "    return tag_book, user_tag"
   ]
  },
  {
   "cell_type": "code",
   "execution_count": 5,
   "metadata": {},
   "outputs": [
    {
     "name": "stdout",
     "output_type": "stream",
     "text": [
      "Please input the ID of user:8\n",
      "[[3, 2], [2, 1], [6, 6]]\n"
     ]
    }
   ],
   "source": [
    "def findMostTags(user_tag_dict, userID, topN):   #找到用户打得最多次数的标签\n",
    "    for key in user_tag_dict.keys():\n",
    "        user_tag_dict[key] = sorted(user_tag_dict[key].items(), key=lambda x:x[1], reverse = True)  \n",
    "    #user_tag_dict排序后的value是一个列表,列表元素是二元组\n",
    "    topNTags = []\n",
    "    for i in range(0, topN):\n",
    "        topNTags.append(user_tag_dict[userID][i][0])\n",
    "        \n",
    "    return topNTags\n",
    "\n",
    "def findFrequentlyTargeted(tag_book_dict, tagID, topN):   #找到被打这个标签次数最多的n本书\n",
    "    for key in tag_book_dict.keys():\n",
    "        if isinstance(tag_book_dict[key], list):  #莫名其妙地是遍历到某一个key时,value竟然已经排好序成为一个list了,所以设置了if语句防止抛出异常\n",
    "            continue\n",
    "        else:\n",
    "            tag_book_dict[key] = sorted(tag_book_dict[key].items(), key=lambda x:x[1], reverse=True)\n",
    "\n",
    "    topNBooks = []\n",
    "    for j in range(0, topN):\n",
    "        topNBooks.append(tag_book_dict[tagID][j][1])\n",
    "    \n",
    "    return topNBooks\n",
    "\n",
    "def recommenderSystem(userID, NTags, NBooks, tag_book, user_tag):\n",
    "    if userID not in user_tag.keys():   #没有过行为的用户可以用函数Non_action_user处理\n",
    "        print('该用户未产生行为')    \n",
    "        return 0\n",
    "    \n",
    "    tags = findMostTags(user_tag, userID, NTags)\n",
    "    recommendedBooks = []\n",
    "    for tagID in tags:\n",
    "        recommendedBooks.append(findFrequentlyTargeted(tag_book, tagID, NBooks))\n",
    "\n",
    "    return recommendedBooks\n",
    "\n",
    "def main():\n",
    "    userID = input('Please input the ID of user:')\n",
    "    tag_book, user_tag = structDict()\n",
    "    recommendedBooks = recommenderSystem(int(userID), 3, 2, tag_book, user_tag)\n",
    "    print(recommendedBooks)\n",
    "    \n",
    "if __name__ == '__main__':\n",
    "    main()"
   ]
  },
  {
   "cell_type": "markdown",
   "metadata": {},
   "source": [
    "结果解释:\n",
    "考虑用户最经常打的3个标签,每个标签找出被标记该标签次数最多的2本书,合计3*2 = 6本书推荐给用户8"
   ]
  }
 ],
 "metadata": {
  "kernelspec": {
   "display_name": "Python 3",
   "language": "python",
   "name": "python3"
  },
  "language_info": {
   "codemirror_mode": {
    "name": "ipython",
    "version": 3
   },
   "file_extension": ".py",
   "mimetype": "text/x-python",
   "name": "python",
   "nbconvert_exporter": "python",
   "pygments_lexer": "ipython3",
   "version": "3.6.5"
  }
 },
 "nbformat": 4,
 "nbformat_minor": 2
}
