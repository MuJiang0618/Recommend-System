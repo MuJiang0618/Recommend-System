{
 "cells": [
  {
   "cell_type": "markdown",
   "metadata": {},
   "source": [
    "# movielens电影推荐系统"
   ]
  },
  {
   "cell_type": "code",
   "execution_count": 157,
   "metadata": {
    "scrolled": true
   },
   "outputs": [],
   "source": [
    "from numpy import *\n",
    "import pandas as pd\n",
    "import math\n",
    "from sklearn.cross_validation import train_test_split"
   ]
  },
  {
   "cell_type": "markdown",
   "metadata": {},
   "source": [
    "## 准备数据"
   ]
  },
  {
   "cell_type": "code",
   "execution_count": 158,
   "metadata": {},
   "outputs": [],
   "source": [
    "movies_df = pd.read_csv(r'D:\\dataSet\\movielens\\movies.csv')\n",
    "ratings_df = pd.read_csv(r'D:\\dataSet\\movielens\\ratings.csv')\n",
    "tags_df = pd.read_csv(r'D:\\dataSet\\movielens\\tags.csv')"
   ]
  },
  {
   "cell_type": "code",
   "execution_count": 159,
   "metadata": {},
   "outputs": [
    {
     "data": {
      "text/html": [
       "<div>\n",
       "<style scoped>\n",
       "    .dataframe tbody tr th:only-of-type {\n",
       "        vertical-align: middle;\n",
       "    }\n",
       "\n",
       "    .dataframe tbody tr th {\n",
       "        vertical-align: top;\n",
       "    }\n",
       "\n",
       "    .dataframe thead th {\n",
       "        text-align: right;\n",
       "    }\n",
       "</style>\n",
       "<table border=\"1\" class=\"dataframe\">\n",
       "  <thead>\n",
       "    <tr style=\"text-align: right;\">\n",
       "      <th></th>\n",
       "      <th>movieId</th>\n",
       "      <th>title</th>\n",
       "      <th>genres</th>\n",
       "    </tr>\n",
       "  </thead>\n",
       "  <tbody>\n",
       "    <tr>\n",
       "      <th>0</th>\n",
       "      <td>1</td>\n",
       "      <td>Toy Story (1995)</td>\n",
       "      <td>Adventure|Animation|Children|Comedy|Fantasy</td>\n",
       "    </tr>\n",
       "  </tbody>\n",
       "</table>\n",
       "</div>"
      ],
      "text/plain": [
       "   movieId             title                                       genres\n",
       "0        1  Toy Story (1995)  Adventure|Animation|Children|Comedy|Fantasy"
      ]
     },
     "execution_count": 159,
     "metadata": {},
     "output_type": "execute_result"
    }
   ],
   "source": [
    "movies_df.head(1)"
   ]
  },
  {
   "cell_type": "code",
   "execution_count": 160,
   "metadata": {},
   "outputs": [],
   "source": [
    "ratings_df.drop('timestamp', axis=1, inplace = True)   #现在不考虑时间"
   ]
  },
  {
   "cell_type": "code",
   "execution_count": 161,
   "metadata": {
    "scrolled": true
   },
   "outputs": [
    {
     "data": {
      "text/html": [
       "<div>\n",
       "<style scoped>\n",
       "    .dataframe tbody tr th:only-of-type {\n",
       "        vertical-align: middle;\n",
       "    }\n",
       "\n",
       "    .dataframe tbody tr th {\n",
       "        vertical-align: top;\n",
       "    }\n",
       "\n",
       "    .dataframe thead th {\n",
       "        text-align: right;\n",
       "    }\n",
       "</style>\n",
       "<table border=\"1\" class=\"dataframe\">\n",
       "  <thead>\n",
       "    <tr style=\"text-align: right;\">\n",
       "      <th></th>\n",
       "      <th>userId</th>\n",
       "      <th>movieId</th>\n",
       "      <th>rating</th>\n",
       "    </tr>\n",
       "  </thead>\n",
       "  <tbody>\n",
       "    <tr>\n",
       "      <th>0</th>\n",
       "      <td>1</td>\n",
       "      <td>31</td>\n",
       "      <td>2.5</td>\n",
       "    </tr>\n",
       "    <tr>\n",
       "      <th>1</th>\n",
       "      <td>1</td>\n",
       "      <td>1029</td>\n",
       "      <td>3.0</td>\n",
       "    </tr>\n",
       "    <tr>\n",
       "      <th>2</th>\n",
       "      <td>1</td>\n",
       "      <td>1061</td>\n",
       "      <td>3.0</td>\n",
       "    </tr>\n",
       "    <tr>\n",
       "      <th>3</th>\n",
       "      <td>1</td>\n",
       "      <td>1129</td>\n",
       "      <td>2.0</td>\n",
       "    </tr>\n",
       "    <tr>\n",
       "      <th>4</th>\n",
       "      <td>1</td>\n",
       "      <td>1172</td>\n",
       "      <td>4.0</td>\n",
       "    </tr>\n",
       "  </tbody>\n",
       "</table>\n",
       "</div>"
      ],
      "text/plain": [
       "   userId  movieId  rating\n",
       "0       1       31     2.5\n",
       "1       1     1029     3.0\n",
       "2       1     1061     3.0\n",
       "3       1     1129     2.0\n",
       "4       1     1172     4.0"
      ]
     },
     "execution_count": 161,
     "metadata": {},
     "output_type": "execute_result"
    }
   ],
   "source": [
    "ratings_df.head(5)        #一位用户会对多部电影评分"
   ]
  },
  {
   "cell_type": "code",
   "execution_count": 162,
   "metadata": {
    "code_folding": []
   },
   "outputs": [],
   "source": [
    "def splitData():\n",
    "    train_index = [] ; test_index = []    #根据index随机划分ratings_df\n",
    "    for index in ratings_df.index:\n",
    "        if random.randint(10) == 5:\n",
    "            test_index.append(index)\n",
    "        else:\n",
    "            train_index.append(index)\n",
    "    \n",
    "    train_ratings_df = ratings_df.iloc[train_index]\n",
    "    test_ratings_df = ratings_df.iloc[test_index]\n",
    "    \n",
    "    return train_ratings_df, test_ratings_df\n",
    "\n",
    "train_ratings_df, test_ratings_df = splitData()"
   ]
  },
  {
   "cell_type": "markdown",
   "metadata": {},
   "source": [
    "## 构建模型"
   ]
  },
  {
   "cell_type": "code",
   "execution_count": 163,
   "metadata": {
    "code_folding": []
   },
   "outputs": [],
   "source": [
    "def userSimilarity():  #得到训练集中用户相似度矩阵\n",
    "    train_item_user = {}   #value:list, 喜欢该item的用户列表,评分>=3.0代表喜欢\n",
    "    for movieId in set(train_ratings_df['movieId']):\n",
    "        train_item_user[movieId] = array(train_ratings_df.loc[(train_ratings_df['movieId'] == movieId) & \\\n",
    "                        (train_ratings_df['rating'] >= 3.0)]['userId'])\n",
    "    #把评分>=3.0视为正反馈\n",
    "    \n",
    "    primal_userSim = {}\n",
    "    user_like_dict = {}\n",
    "    for users_list in train_item_user.values():  #遍历每一项物品:对该物品下的用户进行两两配对,得到用户之间的交集\n",
    "        for preIndex in range(0, len(users_list)):  #前一个用户\n",
    "            #得到分母,记录用户喜欢的电影数\n",
    "            user_like_dict.setdefault(users_list[preIndex], 0)\n",
    "            user_like_dict[users_list[preIndex]] += 1\n",
    "            #遍历到最后1个时,由于当前列表最后一个用户已经与前面的用户两两建立了关系,所以只要记录最后一个用户看过该电影就OK\n",
    "            if preIndex == (len(users_list)-1):\n",
    "                break\n",
    "                \n",
    "            primal_userSim.setdefault(users_list[preIndex], {})\n",
    "            #记录用户之间的交集数\n",
    "            for nextIndex in range(preIndex + 1, len(users_list)):  #两两配对中的第二个用户\n",
    "                primal_userSim[users_list[preIndex]].setdefault(users_list[nextIndex], 0)\n",
    "                primal_userSim.setdefault(users_list[nextIndex], {})\n",
    "                primal_userSim[users_list[nextIndex]].setdefault(users_list[preIndex], 0)  \n",
    "                primal_userSim[users_list[preIndex]][users_list[nextIndex]] += 1 / math.log(1 + len(users_list))  #降低了热门物品对相似度的影响 \n",
    "                primal_userSim[users_list[nextIndex]][users_list[preIndex]] += 1 / math.log(1 + len(users_list))\n",
    "\n",
    "    for user in primal_userSim.keys():\n",
    "        for item in primal_userSim[user].items():\n",
    "            primal_userSim[user][item[0]] /= math.sqrt((user_like_dict[user]) * (user_like_dict[item[0]])) \n",
    "    \n",
    "    return primal_userSim"
   ]
  },
  {
   "cell_type": "code",
   "execution_count": 164,
   "metadata": {},
   "outputs": [],
   "source": [
    "user_sim_dict = userSimilarity()"
   ]
  },
  {
   "cell_type": "code",
   "execution_count": 165,
   "metadata": {
    "code_folding": [
     0
    ]
   },
   "outputs": [],
   "source": [
    "def getClosestdUser(userId, closestN):\n",
    "    closestUser_Score = sorted(user_sim_dict[userId].items(), key=lambda x:x[1], reverse=True)[:closestN]    \n",
    "    closestUser = [item[0] for item in closestUser_Score]\n",
    "    \n",
    "    return closestUser"
   ]
  },
  {
   "cell_type": "code",
   "execution_count": 166,
   "metadata": {
    "code_folding": [
     0
    ]
   },
   "outputs": [
    {
     "data": {
      "text/plain": [
       "[(914, 0.15086589432081035),\n",
       " (1371, 0.14546128940907177),\n",
       " (4085, 0.12133494565239011),\n",
       " (2278, 0.12056757144328015),\n",
       " (1339, 0.11885996796900761)]"
      ]
     },
     "execution_count": 166,
     "metadata": {},
     "output_type": "execute_result"
    }
   ],
   "source": [
    "def closeUser_to_item_interest():  #返回相似用户对该电影的兴趣程度,目前是最简单的形式;我觉得可以考虑返回该相似用户对该电影的评分\n",
    "    return 1\n",
    "\n",
    "def getTotalItemUserDict():\n",
    "    total_item_user_dict = {}\n",
    "    for movieId in set(ratings_df['movieId']):\n",
    "        total_item_user_dict[movieId] = array(ratings_df.loc[ratings_df['movieId'] == movieId]['userId']) \n",
    "    return total_item_user_dict\n",
    "\n",
    "total_item_user_dict = getTotalItemUserDict()\n",
    "\n",
    "def getUserItemDict(userId, closestUser_list, closestK):  #根据相似的K个用户判断用户对物品的评分\n",
    "    userItemDict = {}\n",
    "    for unSeenMovieId in set(ratings_df.loc[ratings_df['userId'] != userId]['movieId']):\n",
    "        userItemDict.setdefault(unSeenMovieId, 0)  #如果相似用户都不喜欢该电影,则该用户对该电影的兴趣估计为0\n",
    "        for closeUser in closestUser_list:\n",
    "            if closeUser not in total_item_user_dict[unSeenMovieId]:   #如果该相似用户不喜欢该电影\n",
    "                continue\n",
    "            userItemDict[unSeenMovieId] += user_sim_dict[userId][closeUser] * closeUser_to_item_interest()\n",
    "            \n",
    "    return userItemDict\n",
    "\n",
    "def recommend(userId, closestK, topN):  #参考最相似的closestK个用户来推荐topN个物品\n",
    "    closestUser = getClosestdUser(userId, closestK)\n",
    "    user_item_dict = getUserItemDict(userId, closestUser, closestK)\n",
    "    recommend_result = sorted(user_item_dict.items(), key=lambda x:x[1], reverse=True)[:topN] \n",
    "    \n",
    "    return recommend_result[:topN]\n",
    "\n",
    "result = recommend(1, 10, 5)\n",
    "result"
   ]
  },
  {
   "cell_type": "code",
   "execution_count": 167,
   "metadata": {},
   "outputs": [],
   "source": [
    "def PrecisionRecall(num_closest=10, topN=5):\n",
    "    fenzi = 0 ; fenmu_precision = 0 ; fenmu_recall = 0\n",
    "    for test_user in list(set(test_ratings_df['userId']))[:100]:\n",
    "        recommend_result = recommend(test_user, num_closest, topN)\n",
    "        recommend_moviesId = [item[0] for item in recommend_result]\n",
    "        test_user_liked_movies = test_ratings_df.loc[(test_ratings_df['userId'] == test_user) \\\n",
    "                                        & (test_ratings_df['rating'] >= 3.5)]['movieId']  \n",
    "        intersection = set(recommend_moviesId).intersection(set(test_user_liked_movies)) \n",
    "        #print(len(intersection))\n",
    "        fenzi += len(intersection)\n",
    "        fenmu_precision += len(recommend_result)\n",
    "        fenmu_recall += len(test_user_liked_movies)\n",
    "        \n",
    "    precision = fenzi / fenmu_precision\n",
    "    recall = fenzi / fenmu_recall\n",
    "    print('precision: %f, recall: %f' %(precision, recall))\n",
    "    \n",
    "    return precision, recall"
   ]
  },
  {
   "cell_type": "code",
   "execution_count": 168,
   "metadata": {},
   "outputs": [
    {
     "name": "stdout",
     "output_type": "stream",
     "text": [
      "precision: 0.036667, recall: 0.055388\n"
     ]
    }
   ],
   "source": [
    "precision, recall = PrecisionRecall(10, 15)\n",
    "#0.032667, recall: 0.051633\n",
    "#0.045, 0.067"
   ]
  }
 ],
 "metadata": {
  "kernelspec": {
   "display_name": "Python 3",
   "language": "python",
   "name": "python3"
  },
  "language_info": {
   "codemirror_mode": {
    "name": "ipython",
    "version": 3
   },
   "file_extension": ".py",
   "mimetype": "text/x-python",
   "name": "python",
   "nbconvert_exporter": "python",
   "pygments_lexer": "ipython3",
   "version": "3.6.5"
  }
 },
 "nbformat": 4,
 "nbformat_minor": 2
}
